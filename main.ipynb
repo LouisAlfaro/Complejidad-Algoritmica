{
 "cells": [
  {
   "cell_type": "code",
   "execution_count": 1,
   "metadata": {},
   "outputs": [
    {
     "name": "stdout",
     "output_type": "stream",
     "text": [
      "Shape of the Dataset: (24905, 24)\n"
     ]
    },
    {
     "data": {
      "text/html": [
       "<div>\n",
       "<style scoped>\n",
       "    .dataframe tbody tr th:only-of-type {\n",
       "        vertical-align: middle;\n",
       "    }\n",
       "\n",
       "    .dataframe tbody tr th {\n",
       "        vertical-align: top;\n",
       "    }\n",
       "\n",
       "    .dataframe thead th {\n",
       "        text-align: right;\n",
       "    }\n",
       "</style>\n",
       "<table border=\"1\" class=\"dataframe\">\n",
       "  <thead>\n",
       "    <tr style=\"text-align: right;\">\n",
       "      <th></th>\n",
       "      <th>anime_id</th>\n",
       "      <th>Name</th>\n",
       "      <th>English name</th>\n",
       "      <th>Other name</th>\n",
       "      <th>Score</th>\n",
       "      <th>Genres</th>\n",
       "      <th>Synopsis</th>\n",
       "      <th>Type</th>\n",
       "      <th>Episodes</th>\n",
       "      <th>Aired</th>\n",
       "      <th>...</th>\n",
       "      <th>Studios</th>\n",
       "      <th>Source</th>\n",
       "      <th>Duration</th>\n",
       "      <th>Rating</th>\n",
       "      <th>Rank</th>\n",
       "      <th>Popularity</th>\n",
       "      <th>Favorites</th>\n",
       "      <th>Scored By</th>\n",
       "      <th>Members</th>\n",
       "      <th>Image URL</th>\n",
       "    </tr>\n",
       "  </thead>\n",
       "  <tbody>\n",
       "    <tr>\n",
       "      <th>0</th>\n",
       "      <td>1</td>\n",
       "      <td>Cowboy Bebop</td>\n",
       "      <td>Cowboy Bebop</td>\n",
       "      <td>カウボーイビバップ</td>\n",
       "      <td>8.75</td>\n",
       "      <td>Action, Award Winning, Sci-Fi</td>\n",
       "      <td>Crime is timeless. By the year 2071, humanity ...</td>\n",
       "      <td>TV</td>\n",
       "      <td>26.0</td>\n",
       "      <td>Apr 3, 1998 to Apr 24, 1999</td>\n",
       "      <td>...</td>\n",
       "      <td>Sunrise</td>\n",
       "      <td>Original</td>\n",
       "      <td>24 min per ep</td>\n",
       "      <td>R - 17+ (violence &amp; profanity)</td>\n",
       "      <td>41.0</td>\n",
       "      <td>43</td>\n",
       "      <td>78525</td>\n",
       "      <td>914193.0</td>\n",
       "      <td>1771505</td>\n",
       "      <td>https://cdn.myanimelist.net/images/anime/4/196...</td>\n",
       "    </tr>\n",
       "    <tr>\n",
       "      <th>1</th>\n",
       "      <td>5</td>\n",
       "      <td>Cowboy Bebop: Tengoku no Tobira</td>\n",
       "      <td>Cowboy Bebop: The Movie</td>\n",
       "      <td>カウボーイビバップ 天国の扉</td>\n",
       "      <td>8.38</td>\n",
       "      <td>Action, Sci-Fi</td>\n",
       "      <td>Another day, another bounty—such is the life o...</td>\n",
       "      <td>Movie</td>\n",
       "      <td>1.0</td>\n",
       "      <td>Sep 1, 2001</td>\n",
       "      <td>...</td>\n",
       "      <td>Bones</td>\n",
       "      <td>Original</td>\n",
       "      <td>1 hr 55 min</td>\n",
       "      <td>R - 17+ (violence &amp; profanity)</td>\n",
       "      <td>189.0</td>\n",
       "      <td>602</td>\n",
       "      <td>1448</td>\n",
       "      <td>206248.0</td>\n",
       "      <td>360978</td>\n",
       "      <td>https://cdn.myanimelist.net/images/anime/1439/...</td>\n",
       "    </tr>\n",
       "  </tbody>\n",
       "</table>\n",
       "<p>2 rows × 24 columns</p>\n",
       "</div>"
      ],
      "text/plain": [
       "   anime_id                             Name             English name  \\\n",
       "0         1                     Cowboy Bebop             Cowboy Bebop   \n",
       "1         5  Cowboy Bebop: Tengoku no Tobira  Cowboy Bebop: The Movie   \n",
       "\n",
       "       Other name Score                         Genres  \\\n",
       "0       カウボーイビバップ  8.75  Action, Award Winning, Sci-Fi   \n",
       "1  カウボーイビバップ 天国の扉  8.38                 Action, Sci-Fi   \n",
       "\n",
       "                                            Synopsis   Type Episodes  \\\n",
       "0  Crime is timeless. By the year 2071, humanity ...     TV     26.0   \n",
       "1  Another day, another bounty—such is the life o...  Movie      1.0   \n",
       "\n",
       "                         Aired  ...  Studios    Source       Duration  \\\n",
       "0  Apr 3, 1998 to Apr 24, 1999  ...  Sunrise  Original  24 min per ep   \n",
       "1                  Sep 1, 2001  ...    Bones  Original    1 hr 55 min   \n",
       "\n",
       "                           Rating   Rank Popularity Favorites Scored By  \\\n",
       "0  R - 17+ (violence & profanity)   41.0         43     78525  914193.0   \n",
       "1  R - 17+ (violence & profanity)  189.0        602      1448  206248.0   \n",
       "\n",
       "   Members                                          Image URL  \n",
       "0  1771505  https://cdn.myanimelist.net/images/anime/4/196...  \n",
       "1   360978  https://cdn.myanimelist.net/images/anime/1439/...  \n",
       "\n",
       "[2 rows x 24 columns]"
      ]
     },
     "execution_count": 1,
     "metadata": {},
     "output_type": "execute_result"
    }
   ],
   "source": [
    "import numpy as np\n",
    "import pandas as pd\n",
    "\n",
    "tam_grafo = 1500\n",
    "\n",
    "df_anime = pd.read_csv(\"uwu/anime-dataset-2023.csv\")\n",
    "print(\"Shape of the Dataset:\", df_anime.shape)\n",
    "df_anime.head(2)"
   ]
  },
  {
   "cell_type": "markdown",
   "metadata": {},
   "source": [
    "comentado ya que, cuando hay muchos nodos la renderización tarda mucho aprox 3 a mas horas"
   ]
  },
  {
   "cell_type": "code",
   "execution_count": 2,
   "metadata": {},
   "outputs": [],
   "source": [
    "#import graphviz as gv\n",
    "\n",
    "#g1 = gv.Graph(format='png')\n",
    "\n",
    "#for i in range(tam_grafo):\n",
    "#   g1.node(str(i), label=df_anime['Name'][i])"
   ]
  },
  {
   "cell_type": "markdown",
   "metadata": {},
   "source": [
    "## Creación del grafo"
   ]
  },
  {
   "cell_type": "code",
   "execution_count": 3,
   "metadata": {},
   "outputs": [],
   "source": [
    "import pandas as pd\n",
    "import csv\n",
    "import io\n",
    "class Grafo:\n",
    "    def __init__(self):\n",
    "        self.graph = {}\n",
    "\n",
    "    def addNode(self, node):\n",
    "        if node not in self.graph:\n",
    "            self.graph[node] = {}\n",
    "\n",
    "    def addEdge(self, origen, fin, peso):\n",
    "        self.addNode(origen)\n",
    "        self.addNode(fin)\n",
    "        self.graph[origen][fin] = peso\n",
    "        self.graph[fin][origen] = peso\n",
    "\n",
    "    def printGraph(self):\n",
    "        for node in self.graph:\n",
    "            print(node, \":\", self.graph[node])\n",
    "\n",
    "\n",
    "    def exportTo(self, filename):\n",
    "        df = pd.DataFrame.from_dict(self.graph, orient='index').stack().reset_index()\n",
    "        df.columns = ['Source', 'Target', 'Weight']\n",
    "        df.to_csv(filename, encoding='utf-8', index=False)"
   ]
  },
  {
   "cell_type": "markdown",
   "metadata": {},
   "source": [
    "### Agregación al grafo"
   ]
  },
  {
   "cell_type": "code",
   "execution_count": 4,
   "metadata": {},
   "outputs": [],
   "source": [
    "grafo = Grafo()\n",
    "for i in range(tam_grafo):\n",
    "    grafo.addNode(df_anime['Name'][i])"
   ]
  },
  {
   "cell_type": "code",
   "execution_count": 5,
   "metadata": {},
   "outputs": [],
   "source": [
    "import math\n",
    "\n",
    "def similarity(anime1, anime2):\n",
    "    genres1 = set(anime1['Genres'].split(','))\n",
    "    genres2 = set(anime2['Genres'].split(','))\n",
    "    common = len(genres1.intersection(genres2))\n",
    "    total = len(genres1.union(genres2))\n",
    "\n",
    "    year1 = anime1['Premiered']\n",
    "    year2 = anime2['Premiered']\n",
    "\n",
    "    if year1 == year2:\n",
    "        common += 1\n",
    "    total += 1\n",
    "\n",
    "    \n",
    "    return common/total"
   ]
  },
  {
   "cell_type": "markdown",
   "metadata": {},
   "source": [
    "tambien comentado por la misma razón"
   ]
  },
  {
   "cell_type": "code",
   "execution_count": 6,
   "metadata": {},
   "outputs": [],
   "source": [
    "#import graphviz as gv\n",
    "#g1 = gv.Graph(format='jpg')\n",
    "\n",
    "#for i in range(tam_grafo):\n",
    "#    g1.node(str(df_anime.iloc[i]['Name']))"
   ]
  },
  {
   "cell_type": "code",
   "execution_count": 7,
   "metadata": {},
   "outputs": [],
   "source": [
    "\n",
    "threshold = 0.75\n",
    "\n",
    "for i in range(tam_grafo):\n",
    "    anime_i = df_anime.iloc[i]\n",
    "    for j in range(i+1, tam_grafo):\n",
    "        anime_j = df_anime.iloc[j]\n",
    "        ponderacion = similarity(anime_i, anime_j)\n",
    "        if ponderacion > threshold and anime_i['Type'] == anime_j['Type'] and anime_i['Name'] != anime_j['Name']:\n",
    "            ponderacion = round(ponderacion, 2)\n",
    "            grafo.addEdge(anime_j['Name'], anime_i['Name'], ponderacion)"
   ]
  },
  {
   "cell_type": "code",
   "execution_count": null,
   "metadata": {},
   "outputs": [],
   "source": [
    "#g1.render('img/g1')"
   ]
  },
  {
   "cell_type": "markdown",
   "metadata": {},
   "source": [
    "con esto exportamos el grafo para visualizarlo en GePhi"
   ]
  },
  {
   "cell_type": "code",
   "execution_count": null,
   "metadata": {},
   "outputs": [],
   "source": [
    "grafo.exportTo(\"grafo_anime.csv\")"
   ]
  }
 ],
 "metadata": {
  "kernelspec": {
   "display_name": "Python 3",
   "language": "python",
   "name": "python3"
  },
  "language_info": {
   "codemirror_mode": {
    "name": "ipython",
    "version": 3
   },
   "file_extension": ".py",
   "mimetype": "text/x-python",
   "name": "python",
   "nbconvert_exporter": "python",
   "pygments_lexer": "ipython3",
   "version": "3.11.6"
  },
  "orig_nbformat": 4
 },
 "nbformat": 4,
 "nbformat_minor": 2
}
